{
 "cells": [
  {
   "cell_type": "code",
   "execution_count": 2,
   "metadata": {},
   "outputs": [],
   "source": [
    "from pathfinding.core.diagonal_movement import DiagonalMovement\n",
    "from pathfinding.core.grid import Grid\n",
    "from pathfinding.finder.a_star import AStarFinder"
   ]
  },
  {
   "cell_type": "code",
   "execution_count": 3,
   "metadata": {},
   "outputs": [],
   "source": [
    "moscow = [\n",
    "    [1,1,1,1,1],\n",
    "    [1,0,0,1,1],\n",
    "    [0,0,0,1,1],\n",
    "    [1,0,1,0,0],\n",
    "    [1,1,1,1,1]\n",
    "]"
   ]
  },
  {
   "cell_type": "code",
   "execution_count": 4,
   "metadata": {},
   "outputs": [],
   "source": [
    "moscow_grid = Grid(matrix=moscow)"
   ]
  },
  {
   "cell_type": "code",
   "execution_count": 5,
   "metadata": {},
   "outputs": [],
   "source": [
    "start = moscow_grid.node(0,0)\n",
    "end = moscow_grid.node(1,4)"
   ]
  },
  {
   "cell_type": "code",
   "execution_count": 6,
   "metadata": {},
   "outputs": [],
   "source": [
    "finder = AStarFinder(diagonal_movement=DiagonalMovement.always)\n",
    "path, runs = finder.find_path(start, end, moscow_grid)"
   ]
  },
  {
   "cell_type": "code",
   "execution_count": 12,
   "metadata": {},
   "outputs": [
    {
     "name": "stdout",
     "output_type": "stream",
     "text": [
      "operations: 8 path length: 7\n",
      "'+-----+\\n|sxx  |\\n| ##x |\\n|###x |\\n| #x##|\\n| e   |\\n+-----+'\n"
     ]
    }
   ],
   "source": [
    "print('operations:', runs, 'path length:', len(path))\n",
    "print(repr(moscow_grid.grid_str(path=path, start=start, end=end)))"
   ]
  },
  {
   "cell_type": "code",
   "execution_count": 14,
   "metadata": {},
   "outputs": [
    {
     "name": "stdout",
     "output_type": "stream",
     "text": [
      "True\n"
     ]
    }
   ],
   "source": [
    "print('\\\\' in repr(moscow_grid.grid_str(path=path, start=start, end=end)))"
   ]
  },
  {
   "cell_type": "code",
   "execution_count": null,
   "metadata": {},
   "outputs": [],
   "source": [
    "output_grid = ''\n",
    "for i in range(len(matrix)):\n",
    "    current_grid_position = [matrixes[m_idx][i] for m_idx in len(matrixes)]\n",
    "\n",
    "    if '+' in current_grid_position:\n",
    "        output_grid += '+'\n",
    "    elif '-' in current_grid_position:\n",
    "        output_grid += '-'\n",
    "    elif '\\\\' in current_grid_position:\n",
    "        output_grid += '\\\\'\n",
    "    elif 'n' in current_grid_position:\n",
    "        output_grid += 'n'\n",
    "    elif '|' in current_grid_position:\n",
    "        output_grid += '|'\n",
    "    elif 's' in current_grid_position:\n",
    "        output_grid += 's'\n",
    "    elif 'e' in current_grid_position:\n",
    "        output_grid += 'e'\n",
    "    elif "
   ]
  }
 ],
 "metadata": {
  "kernelspec": {
   "display_name": "Python 3",
   "language": "python",
   "name": "python3"
  },
  "language_info": {
   "codemirror_mode": {
    "name": "ipython",
    "version": 3
   },
   "file_extension": ".py",
   "mimetype": "text/x-python",
   "name": "python",
   "nbconvert_exporter": "python",
   "pygments_lexer": "ipython3",
   "version": "3.12.3"
  }
 },
 "nbformat": 4,
 "nbformat_minor": 2
}
